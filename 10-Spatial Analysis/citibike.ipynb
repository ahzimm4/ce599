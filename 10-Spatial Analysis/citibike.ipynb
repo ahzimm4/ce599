{
 "cells": [
  {
   "cell_type": "markdown",
   "metadata": {},
   "source": [
    "# Example: CitiBike data\n",
    "\n",
    "Adapted from Kelsey Jordahl\n",
    "https://gist.github.com/kjordahl/5957573"
   ]
  },
  {
   "cell_type": "code",
   "execution_count": 1,
   "metadata": {},
   "outputs": [],
   "source": [
    "import requests  \n",
    "import json\n",
    "from pyproj import Proj\n",
    "from shapely.geometry import Point\n",
    "import geopandas as gp"
   ]
  },
  {
   "cell_type": "markdown",
   "metadata": {},
   "source": [
    "NYC borough boundaries downloaded from [Bytes of the Big Apple](http://www.nyc.gov/html/dcp/download/bytes/nybb_13a.zip)"
   ]
  },
  {
   "cell_type": "code",
   "execution_count": 2,
   "metadata": {},
   "outputs": [
    {
     "data": {
      "text/html": [
       "<div>\n",
       "<style scoped>\n",
       "    .dataframe tbody tr th:only-of-type {\n",
       "        vertical-align: middle;\n",
       "    }\n",
       "\n",
       "    .dataframe tbody tr th {\n",
       "        vertical-align: top;\n",
       "    }\n",
       "\n",
       "    .dataframe thead th {\n",
       "        text-align: right;\n",
       "    }\n",
       "</style>\n",
       "<table border=\"1\" class=\"dataframe\">\n",
       "  <thead>\n",
       "    <tr style=\"text-align: right;\">\n",
       "      <th></th>\n",
       "      <th>BoroCode</th>\n",
       "      <th>BoroName</th>\n",
       "      <th>Shape_Leng</th>\n",
       "      <th>Shape_Area</th>\n",
       "      <th>geometry</th>\n",
       "    </tr>\n",
       "  </thead>\n",
       "  <tbody>\n",
       "    <tr>\n",
       "      <th>0</th>\n",
       "      <td>5</td>\n",
       "      <td>Staten Island</td>\n",
       "      <td>330466.075042</td>\n",
       "      <td>1.623827e+09</td>\n",
       "      <td>(POLYGON ((970217.0223999023 145643.3322143555...</td>\n",
       "    </tr>\n",
       "    <tr>\n",
       "      <th>1</th>\n",
       "      <td>3</td>\n",
       "      <td>Brooklyn</td>\n",
       "      <td>741185.900596</td>\n",
       "      <td>1.937597e+09</td>\n",
       "      <td>(POLYGON ((1021176.479003906 151374.7969970703...</td>\n",
       "    </tr>\n",
       "    <tr>\n",
       "      <th>2</th>\n",
       "      <td>4</td>\n",
       "      <td>Queens</td>\n",
       "      <td>897040.298576</td>\n",
       "      <td>3.045168e+09</td>\n",
       "      <td>(POLYGON ((1029606.076599121 156073.8142089844...</td>\n",
       "    </tr>\n",
       "    <tr>\n",
       "      <th>3</th>\n",
       "      <td>1</td>\n",
       "      <td>Manhattan</td>\n",
       "      <td>358408.460709</td>\n",
       "      <td>6.364467e+08</td>\n",
       "      <td>(POLYGON ((981219.0557861328 188655.3157958984...</td>\n",
       "    </tr>\n",
       "    <tr>\n",
       "      <th>4</th>\n",
       "      <td>2</td>\n",
       "      <td>Bronx</td>\n",
       "      <td>464400.198868</td>\n",
       "      <td>1.186973e+09</td>\n",
       "      <td>(POLYGON ((1012821.805786133 229228.2645874023...</td>\n",
       "    </tr>\n",
       "  </tbody>\n",
       "</table>\n",
       "</div>"
      ],
      "text/plain": [
       "   BoroCode       BoroName     Shape_Leng    Shape_Area  \\\n",
       "0         5  Staten Island  330466.075042  1.623827e+09   \n",
       "1         3       Brooklyn  741185.900596  1.937597e+09   \n",
       "2         4         Queens  897040.298576  3.045168e+09   \n",
       "3         1      Manhattan  358408.460709  6.364467e+08   \n",
       "4         2          Bronx  464400.198868  1.186973e+09   \n",
       "\n",
       "                                            geometry  \n",
       "0  (POLYGON ((970217.0223999023 145643.3322143555...  \n",
       "1  (POLYGON ((1021176.479003906 151374.7969970703...  \n",
       "2  (POLYGON ((1029606.076599121 156073.8142089844...  \n",
       "3  (POLYGON ((981219.0557861328 188655.3157958984...  \n",
       "4  (POLYGON ((1012821.805786133 229228.2645874023...  "
      ]
     },
     "execution_count": 2,
     "metadata": {},
     "output_type": "execute_result"
    }
   ],
   "source": [
    "boros = gp.GeoDataFrame.from_file('nybb_15b/nybb.shp')\n",
    "boros"
   ]
  },
  {
   "cell_type": "markdown",
   "metadata": {},
   "source": [
    "Load real time bike station data from [CitiBike](http://citibikenyc.com) json API:"
   ]
  },
  {
   "cell_type": "code",
   "execution_count": 3,
   "metadata": {},
   "outputs": [],
   "source": [
    "# get the bike data and convert it to a ditcionary\n",
    "endpoint_url = 'http://citibikenyc.com/stations/json'\n",
    "response = requests.get(endpoint_url)\n",
    "data = json.loads(response.text)\n"
   ]
  },
  {
   "cell_type": "code",
   "execution_count": 4,
   "metadata": {},
   "outputs": [
    {
     "data": {
      "text/html": [
       "<div>\n",
       "<style scoped>\n",
       "    .dataframe tbody tr th:only-of-type {\n",
       "        vertical-align: middle;\n",
       "    }\n",
       "\n",
       "    .dataframe tbody tr th {\n",
       "        vertical-align: top;\n",
       "    }\n",
       "\n",
       "    .dataframe thead th {\n",
       "        text-align: right;\n",
       "    }\n",
       "</style>\n",
       "<table border=\"1\" class=\"dataframe\">\n",
       "  <thead>\n",
       "    <tr style=\"text-align: right;\">\n",
       "      <th></th>\n",
       "      <th>altitude</th>\n",
       "      <th>availableBikes</th>\n",
       "      <th>availableDocks</th>\n",
       "      <th>city</th>\n",
       "      <th>id</th>\n",
       "      <th>landMark</th>\n",
       "      <th>lastCommunicationTime</th>\n",
       "      <th>latitude</th>\n",
       "      <th>location</th>\n",
       "      <th>longitude</th>\n",
       "      <th>postalCode</th>\n",
       "      <th>stAddress1</th>\n",
       "      <th>stAddress2</th>\n",
       "      <th>stationName</th>\n",
       "      <th>statusKey</th>\n",
       "      <th>statusValue</th>\n",
       "      <th>testStation</th>\n",
       "      <th>totalDocks</th>\n",
       "    </tr>\n",
       "  </thead>\n",
       "  <tbody>\n",
       "    <tr>\n",
       "      <th>0</th>\n",
       "      <td></td>\n",
       "      <td>26</td>\n",
       "      <td>5</td>\n",
       "      <td></td>\n",
       "      <td>304</td>\n",
       "      <td></td>\n",
       "      <td>2019-02-19 12:46:15 PM</td>\n",
       "      <td>40.704633</td>\n",
       "      <td></td>\n",
       "      <td>-74.013617</td>\n",
       "      <td></td>\n",
       "      <td>Broadway &amp; Battery Pl</td>\n",
       "      <td></td>\n",
       "      <td>Broadway &amp; Battery Pl</td>\n",
       "      <td>1</td>\n",
       "      <td>In Service</td>\n",
       "      <td>False</td>\n",
       "      <td>33</td>\n",
       "    </tr>\n",
       "    <tr>\n",
       "      <th>1</th>\n",
       "      <td></td>\n",
       "      <td>26</td>\n",
       "      <td>34</td>\n",
       "      <td></td>\n",
       "      <td>359</td>\n",
       "      <td></td>\n",
       "      <td>2019-02-19 12:46:10 PM</td>\n",
       "      <td>40.755103</td>\n",
       "      <td></td>\n",
       "      <td>-73.974987</td>\n",
       "      <td></td>\n",
       "      <td>E 47 St &amp; Park Ave</td>\n",
       "      <td></td>\n",
       "      <td>E 47 St &amp; Park Ave</td>\n",
       "      <td>1</td>\n",
       "      <td>In Service</td>\n",
       "      <td>False</td>\n",
       "      <td>64</td>\n",
       "    </tr>\n",
       "    <tr>\n",
       "      <th>2</th>\n",
       "      <td></td>\n",
       "      <td>12</td>\n",
       "      <td>33</td>\n",
       "      <td></td>\n",
       "      <td>377</td>\n",
       "      <td></td>\n",
       "      <td>2019-02-19 12:45:10 PM</td>\n",
       "      <td>40.722438</td>\n",
       "      <td></td>\n",
       "      <td>-74.005664</td>\n",
       "      <td></td>\n",
       "      <td>6 Ave &amp; Canal St</td>\n",
       "      <td></td>\n",
       "      <td>6 Ave &amp; Canal St</td>\n",
       "      <td>1</td>\n",
       "      <td>In Service</td>\n",
       "      <td>False</td>\n",
       "      <td>45</td>\n",
       "    </tr>\n",
       "    <tr>\n",
       "      <th>3</th>\n",
       "      <td></td>\n",
       "      <td>4</td>\n",
       "      <td>32</td>\n",
       "      <td></td>\n",
       "      <td>402</td>\n",
       "      <td></td>\n",
       "      <td>2019-02-19 12:45:15 PM</td>\n",
       "      <td>40.740343</td>\n",
       "      <td></td>\n",
       "      <td>-73.989551</td>\n",
       "      <td></td>\n",
       "      <td>Broadway &amp; E 22 St</td>\n",
       "      <td></td>\n",
       "      <td>Broadway &amp; E 22 St</td>\n",
       "      <td>1</td>\n",
       "      <td>In Service</td>\n",
       "      <td>False</td>\n",
       "      <td>39</td>\n",
       "    </tr>\n",
       "    <tr>\n",
       "      <th>4</th>\n",
       "      <td></td>\n",
       "      <td>36</td>\n",
       "      <td>5</td>\n",
       "      <td></td>\n",
       "      <td>520</td>\n",
       "      <td></td>\n",
       "      <td>2019-02-19 12:46:13 PM</td>\n",
       "      <td>40.759923</td>\n",
       "      <td></td>\n",
       "      <td>-73.976485</td>\n",
       "      <td></td>\n",
       "      <td>W 52 St &amp; 5 Ave</td>\n",
       "      <td></td>\n",
       "      <td>W 52 St &amp; 5 Ave</td>\n",
       "      <td>1</td>\n",
       "      <td>In Service</td>\n",
       "      <td>False</td>\n",
       "      <td>41</td>\n",
       "    </tr>\n",
       "  </tbody>\n",
       "</table>\n",
       "</div>"
      ],
      "text/plain": [
       "  altitude  availableBikes  availableDocks city   id landMark  \\\n",
       "0                       26               5       304            \n",
       "1                       26              34       359            \n",
       "2                       12              33       377            \n",
       "3                        4              32       402            \n",
       "4                       36               5       520            \n",
       "\n",
       "    lastCommunicationTime   latitude location  longitude postalCode  \\\n",
       "0  2019-02-19 12:46:15 PM  40.704633          -74.013617              \n",
       "1  2019-02-19 12:46:10 PM  40.755103          -73.974987              \n",
       "2  2019-02-19 12:45:10 PM  40.722438          -74.005664              \n",
       "3  2019-02-19 12:45:15 PM  40.740343          -73.989551              \n",
       "4  2019-02-19 12:46:13 PM  40.759923          -73.976485              \n",
       "\n",
       "              stAddress1 stAddress2            stationName  statusKey  \\\n",
       "0  Broadway & Battery Pl             Broadway & Battery Pl          1   \n",
       "1     E 47 St & Park Ave                E 47 St & Park Ave          1   \n",
       "2       6 Ave & Canal St                  6 Ave & Canal St          1   \n",
       "3     Broadway & E 22 St                Broadway & E 22 St          1   \n",
       "4        W 52 St & 5 Ave                   W 52 St & 5 Ave          1   \n",
       "\n",
       "  statusValue  testStation  totalDocks  \n",
       "0  In Service        False          33  \n",
       "1  In Service        False          64  \n",
       "2  In Service        False          45  \n",
       "3  In Service        False          39  \n",
       "4  In Service        False          41  "
      ]
     },
     "execution_count": 4,
     "metadata": {},
     "output_type": "execute_result"
    }
   ],
   "source": [
    "# convert the relevant part to a geodataframe\n",
    "df = gp.GeoDataFrame(data['stationBeanList'])\n",
    "df.head()"
   ]
  },
  {
   "cell_type": "code",
   "execution_count": 5,
   "metadata": {},
   "outputs": [
    {
     "data": {
      "text/plain": [
       "814"
      ]
     },
     "execution_count": 5,
     "metadata": {},
     "output_type": "execute_result"
    }
   ],
   "source": [
    "# there is one row for each bike station.  How many stations are there? \n",
    "len(df)"
   ]
  },
  {
   "cell_type": "code",
   "execution_count": 6,
   "metadata": {},
   "outputs": [
    {
     "data": {
      "text/plain": [
       "array([-74.0836394 ,  40.65539977, -73.9077436 ,  40.81439444])"
      ]
     },
     "execution_count": 6,
     "metadata": {},
     "output_type": "execute_result"
    }
   ],
   "source": [
    "# in the file above, there are lon-lats, but no geometry field\n",
    "# we need to set that up\n",
    "\n",
    "s = gp.GeoSeries([Point(x, y) for x, y in zip(df['longitude'], df['latitude'])])\n",
    "df['geometry'] = s\n",
    "df.crs = {'init': 'epsg:4326', 'no_defs': True}\n",
    "df.geometry.total_bounds"
   ]
  },
  {
   "cell_type": "code",
   "execution_count": 7,
   "metadata": {},
   "outputs": [
    {
     "data": {
      "text/plain": [
       "array([ 961064.73659426,  178056.37414829, 1009803.53178432,\n",
       "        235986.42166716])"
      ]
     },
     "execution_count": 7,
     "metadata": {},
     "output_type": "execute_result"
    }
   ],
   "source": [
    "# make sure they are on the same CRS.  \n",
    "# checking the bounds is a nice way of seeing this\n",
    "df.to_crs(boros.crs, inplace=True)\n",
    "df.geometry.total_bounds"
   ]
  },
  {
   "cell_type": "code",
   "execution_count": 8,
   "metadata": {},
   "outputs": [
    {
     "name": "stdout",
     "output_type": "stream",
     "text": [
      "414 stations in Manhattan\n"
     ]
    }
   ],
   "source": [
    "# the geometry objects can do lots of cool stuff.  For example: \n",
    "\n",
    "manhattan = boros.geometry[3]\n",
    "in_mn = df.geometry.within(manhattan)\n",
    "print(sum(in_mn), 'stations in Manhattan')"
   ]
  },
  {
   "cell_type": "markdown",
   "metadata": {},
   "source": [
    "# Your turn\n",
    "\n",
    "You can read about the range of operations available in geopandas here: \n",
    "    \n",
    "http://geopandas.org/index.html\n",
    "\n",
    "Your assignment is to: \n",
    "\n",
    "1. Calculate how many stations are in each borough\n",
    "2. Calculate how many bikes are currently available in each borough\n",
    "3. Read about and try at least two new spatial or geometric operations (beyond what I've covered here). "
   ]
  },
  {
   "cell_type": "code",
   "execution_count": 9,
   "metadata": {},
   "outputs": [],
   "source": [
    "bronx = boros.geometry[4]\n",
    "in_bx = df.geometry.within(bronx)"
   ]
  },
  {
   "cell_type": "code",
   "execution_count": 10,
   "metadata": {},
   "outputs": [],
   "source": [
    "queens = boros.geometry[2]\n",
    "in_Q = df.geometry.within(queens)"
   ]
  },
  {
   "cell_type": "code",
   "execution_count": 11,
   "metadata": {},
   "outputs": [],
   "source": [
    "brooklyn = boros.geometry[1]\n",
    "in_bk = df.geometry.within(brooklyn)"
   ]
  },
  {
   "cell_type": "code",
   "execution_count": 12,
   "metadata": {},
   "outputs": [],
   "source": [
    "statenisland = boros.geometry[0]\n",
    "in_si = df.geometry.within(statenisland)"
   ]
  },
  {
   "cell_type": "code",
   "execution_count": 13,
   "metadata": {},
   "outputs": [
    {
     "name": "stdout",
     "output_type": "stream",
     "text": [
      "414 stations in Manhattan\n",
      "0 stations in Bronx\n",
      "82 stations in Queens\n",
      "268 stations in Brooklyn\n",
      "0 stations in Staten Island\n"
     ]
    }
   ],
   "source": [
    "print(sum(in_mn), 'stations in Manhattan')\n",
    "print(sum(in_bx), 'stations in Bronx')\n",
    "print(sum(in_Q), 'stations in Queens')\n",
    "print(sum(in_bk), 'stations in Brooklyn')\n",
    "print(sum(in_si), 'stations in Staten Island')"
   ]
  },
  {
   "cell_type": "code",
   "execution_count": 14,
   "metadata": {},
   "outputs": [
    {
     "data": {
      "text/plain": [
       "0      26\n",
       "1      26\n",
       "2      12\n",
       "3       4\n",
       "4      36\n",
       "5       2\n",
       "6      12\n",
       "7       4\n",
       "8      23\n",
       "9      25\n",
       "10     35\n",
       "11      5\n",
       "12     13\n",
       "13     30\n",
       "14     26\n",
       "15     21\n",
       "16     13\n",
       "17     18\n",
       "18      0\n",
       "19     26\n",
       "20      3\n",
       "21     33\n",
       "22     30\n",
       "23      3\n",
       "24     41\n",
       "25     38\n",
       "26      4\n",
       "27     13\n",
       "28     27\n",
       "29      7\n",
       "       ..\n",
       "784    32\n",
       "785    36\n",
       "786    25\n",
       "787     4\n",
       "788    36\n",
       "789     0\n",
       "790    11\n",
       "791    25\n",
       "792     4\n",
       "793     3\n",
       "794     0\n",
       "795    25\n",
       "796    11\n",
       "797    46\n",
       "798    27\n",
       "799    44\n",
       "800     1\n",
       "801     2\n",
       "802     6\n",
       "803    25\n",
       "804     0\n",
       "805     4\n",
       "806    21\n",
       "807     2\n",
       "808    15\n",
       "809    10\n",
       "810     1\n",
       "811     5\n",
       "812     8\n",
       "813     7\n",
       "Name: availableBikes, Length: 814, dtype: int64"
      ]
     },
     "execution_count": 14,
     "metadata": {},
     "output_type": "execute_result"
    }
   ],
   "source": [
    "df.availableBikes"
   ]
  },
  {
   "cell_type": "code",
   "execution_count": 15,
   "metadata": {},
   "outputs": [],
   "source": [
    "bikes_bx = 0\n",
    "for row in range(0,len(df)):\n",
    "    if df['geometry'][row].within(boros.geometry[4])==True:\n",
    "        bikes_bx = bikes_bx + df['availableBikes'][row]"
   ]
  },
  {
   "cell_type": "code",
   "execution_count": 16,
   "metadata": {},
   "outputs": [],
   "source": [
    "bikes_Q = 0\n",
    "for row in range(0,len(df)):\n",
    "    if df['geometry'][row].within(boros.geometry[2])==True:\n",
    "        bikes_Q = bikes_Q + df['availableBikes'][row]"
   ]
  },
  {
   "cell_type": "code",
   "execution_count": 17,
   "metadata": {},
   "outputs": [],
   "source": [
    "bikes_bk = 0\n",
    "for row in range(0,len(df)):\n",
    "    if df['geometry'][row].within(boros.geometry[1])==True:\n",
    "        bikes_bk = bikes_bk + df['availableBikes'][row]"
   ]
  },
  {
   "cell_type": "code",
   "execution_count": 18,
   "metadata": {},
   "outputs": [],
   "source": [
    "bikes_si = 0\n",
    "for row in range(0,len(df)):\n",
    "    if df['geometry'][row].within(boros.geometry[0])==True:\n",
    "        bikes_si = bikes_si + df['availableBikes'][row]"
   ]
  },
  {
   "cell_type": "code",
   "execution_count": 19,
   "metadata": {},
   "outputs": [],
   "source": [
    "bikes_mn = 0\n",
    "for row in range(0,len(df)):\n",
    "    if df['geometry'][row].within(boros.geometry[3])==True:\n",
    "        bikes_mn = bikes_mn + df['availableBikes'][row]"
   ]
  },
  {
   "cell_type": "code",
   "execution_count": 20,
   "metadata": {},
   "outputs": [
    {
     "name": "stdout",
     "output_type": "stream",
     "text": [
      "available bikes in Manhattan 6422\n",
      "available bikes in Staten Island 0\n",
      "available bikes in Brooklyn 3313\n",
      "available bikes in Queens 417\n",
      "available bikes in Bronx 0\n"
     ]
    }
   ],
   "source": [
    "print ('available bikes in Manhattan', bikes_mn)\n",
    "print ('available bikes in Staten Island', bikes_si)\n",
    "print ('available bikes in Brooklyn', bikes_bk)\n",
    "print ('available bikes in Queens', bikes_Q)\n",
    "print ('available bikes in Bronx', bikes_bx)"
   ]
  },
  {
   "cell_type": "code",
   "execution_count": null,
   "metadata": {},
   "outputs": [],
   "source": []
  }
 ],
 "metadata": {
  "anaconda-cloud": {},
  "kernelspec": {
   "display_name": "Python 3",
   "language": "python",
   "name": "python3"
  },
  "language_info": {
   "codemirror_mode": {
    "name": "ipython",
    "version": 3
   },
   "file_extension": ".py",
   "mimetype": "text/x-python",
   "name": "python",
   "nbconvert_exporter": "python",
   "pygments_lexer": "ipython3",
   "version": "3.7.1"
  }
 },
 "nbformat": 4,
 "nbformat_minor": 1
}
