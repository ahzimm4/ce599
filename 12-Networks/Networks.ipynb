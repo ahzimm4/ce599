{
 "cells": [
  {
   "cell_type": "markdown",
   "metadata": {},
   "source": [
    "# Networks\n",
    "\n",
    "This lesson introduces the network data structure.  Aspects of this lesson are adapted from Andrew Brooks' tutorial on graph optimization.  \n",
    "\n",
    "https://www.datacamp.com/community/tutorials/networkx-python-graph-tutorial\n",
    "\n",
    "It also draws from theory material presented at PyCon 2015 by Celia La and Sarah Guido.  \n",
    "\n",
    "https://github.com/sarguido/networkx-tutorial\n",
    "\n",
    "You will need to install two packages:\n",
    "\n",
    "pip install networkx\n",
    "pip install imageio\n",
    "\n",
    "The networkx documentation is here: \n",
    "\n",
    "https://networkx.github.io/"
   ]
  },
  {
   "cell_type": "code",
   "execution_count": 2,
   "metadata": {},
   "outputs": [],
   "source": [
    "# imports\n",
    "import pandas as pd\n",
    "import networkx as nx\n",
    "import matplotlib.pyplot as plt\n",
    "\n",
    "%matplotlib inline"
   ]
  },
  {
   "cell_type": "markdown",
   "metadata": {
    "collapsed": true
   },
   "source": [
    "# Intro to NetworkX\n",
    "\n",
    "### Adding & editing graph nodes\n",
    "\n",
    "We'll first take a look at creating a graph, and adding/editing nodes:"
   ]
  },
  {
   "cell_type": "code",
   "execution_count": 3,
   "metadata": {},
   "outputs": [
    {
     "data": {
      "text/plain": [
       "NodeView((1, 2, 3, 'four', 5))"
      ]
     },
     "execution_count": 3,
     "metadata": {},
     "output_type": "execute_result"
    }
   ],
   "source": [
    "import networkx as nx\n",
    "\n",
    "'''use g = nx.Graph() to create a graph'''\n",
    "\n",
    "g = nx.Graph()\n",
    "\n",
    "'''Lesson: use .add_node(1) to add a single node'''\n",
    "g.add_node(1)\n",
    "\n",
    "'''Lesson: use .add_nodes_from([2, 3, 'four', 5])  to add in bulk'''\n",
    "g.add_nodes_from([2, 3, 'four', 5])\n",
    "\n",
    "g.nodes()  # run g.nodes() to view the graph"
   ]
  },
  {
   "cell_type": "code",
   "execution_count": 4,
   "metadata": {},
   "outputs": [
    {
     "data": {
      "text/plain": [
       "NodeView((1, 2, 3, 'four', 5))"
      ]
     },
     "execution_count": 4,
     "metadata": {},
     "output_type": "execute_result"
    }
   ],
   "source": [
    "'''Note that NetworkX won't complain if we re-add pre-existing nodes'''\n",
    "\n",
    "# TODO: try re-adding nodes to see what happens\n",
    "\n",
    "g.nodes()  # display nodes"
   ]
  },
  {
   "cell_type": "code",
   "execution_count": 5,
   "metadata": {},
   "outputs": [
    {
     "data": {
      "text/plain": [
       "NodeView((1, 2, 3, 'four', 5))"
      ]
     },
     "execution_count": 5,
     "metadata": {},
     "output_type": "execute_result"
    }
   ],
   "source": [
    "'''Lesson: remove syntax is similar to adding, eg:\n",
    "        .remove_node()\n",
    "        .remove_nodes_from()\n",
    "'''\n",
    "\n",
    "# TODO: try removing both 1) single nodes, 2) nodes in bulk\n",
    "\n",
    "#g.remove_node(1) removes a single node\n",
    "\n",
    "#g.remove_nodes_from([2,5]) #removes multiple nodes from a list\n",
    "\n",
    "\n",
    "g.nodes()  # display nodes"
   ]
  },
  {
   "cell_type": "markdown",
   "metadata": {},
   "source": [
    "### Adding & editing edges"
   ]
  },
  {
   "cell_type": "code",
   "execution_count": 6,
   "metadata": {},
   "outputs": [
    {
     "name": "stdout",
     "output_type": "stream",
     "text": [
      "edges: [('a', 'b')]\n",
      "nodes: ['a', 'b']\n"
     ]
    }
   ],
   "source": [
    "h = nx.Graph()  # let's create a 2nd graph to play with edges\n",
    "\n",
    "'''Lesson: to create an edge, just specify the 2 nodes that define it: \n",
    "        .add_edge('a','b')\n",
    "    Note that those nodes also get added (no need to make them beforehand!)\n",
    "'''\n",
    "\n",
    "h.add_edge('a', 'b')\n",
    "\n",
    "\n",
    "print('edges:', h.edges())  # see your new edge\n",
    "print('nodes:', h.nodes())  # verify that new nodes were also added"
   ]
  },
  {
   "cell_type": "markdown",
   "metadata": {},
   "source": [
    "### Visualizing graphs"
   ]
  },
  {
   "cell_type": "code",
   "execution_count": 7,
   "metadata": {},
   "outputs": [
    {
     "name": "stderr",
     "output_type": "stream",
     "text": [
      "C:\\Users\\Zimmerman1\\Anaconda3\\lib\\site-packages\\networkx\\drawing\\nx_pylab.py:611: MatplotlibDeprecationWarning: isinstance(..., numbers.Number)\n",
      "  if cb.is_numlike(alpha):\n"
     ]
    },
    {
     "data": {
      "image/png": "[encoded data removed]",
      "text/plain": [
       "<Figure size 432x288 with 1 Axes>"
      ]
     },
     "metadata": {},
     "output_type": "display_data"
    }
   ],
   "source": [
    "\n",
    "GREEN = \"#77DD77\"\n",
    "BLUE = \"#99CCFF\"\n",
    "\n",
    "nx.draw(g, node_color=GREEN, with_labels=True)\n",
    "nx.draw(h, node_color=BLUE, with_labels=True)\n",
    "\n"
   ]
  },
  {
   "cell_type": "markdown",
   "metadata": {},
   "source": [
    "#### How would you create the following graph?\n",
    "\n",
    "<img src=\"img/graph.png\" style=\"float:left\" width=\"200\" />"
   ]
  },
  {
   "cell_type": "code",
   "execution_count": 8,
   "metadata": {},
   "outputs": [
    {
     "data": {
      "image/png": "[encoded data removed]",
      "text/plain": [
       "<Figure size 432x288 with 1 Axes>"
      ]
     },
     "metadata": {},
     "output_type": "display_data"
    }
   ],
   "source": [
    "g = nx.Graph()\n",
    "\n",
    "g.add_edges_from([('A','B'),('B','D'),('C','D'),('E','D'),('F','D')])\n",
    "\n",
    "nx.draw(g, node_color=GREEN, with_labels=True)"
   ]
  },
  {
   "cell_type": "markdown",
   "metadata": {},
   "source": [
    "# Directed graphs"
   ]
  },
  {
   "cell_type": "code",
   "execution_count": 9,
   "metadata": {},
   "outputs": [
    {
     "name": "stdout",
     "output_type": "stream",
     "text": [
      "directed edges: [(1, 2), (2, 3)]\n"
     ]
    },
    {
     "data": {
      "image/png": "[encoded data removed]",
      "text/plain": [
       "<Figure size 432x288 with 1 Axes>"
      ]
     },
     "metadata": {},
     "output_type": "display_data"
    }
   ],
   "source": [
    "'''Lesson: use nx.DiGraph() to create a new directed graph\n",
    "'''\n",
    "\n",
    "dg = nx.DiGraph()\n",
    "\n",
    "\n",
    "dg.add_edges_from([(1,2), (2,3)])\n",
    "\n",
    "print('directed edges:', dg.edges())\n",
    "nx.draw(dg, node_color=GREEN, with_labels=True)\n"
   ]
  },
  {
   "cell_type": "code",
   "execution_count": 33,
   "metadata": {},
   "outputs": [
    {
     "data": {
      "image/png": "[encoded data removed]",
      "text/plain": [
       "<Figure size 432x288 with 1 Axes>"
      ]
     },
     "metadata": {},
     "output_type": "display_data"
    }
   ],
   "source": [
    "'''We can make directed graphs from existing graphs, eg:\n",
    "        nx.DiGraph(g)\n",
    "'''\n",
    "\n",
    "dg = nx.DiGraph(g)\n",
    "\n",
    "\n",
    "nx.draw(dg, node_color=BLUE, with_labels=True)"
   ]
  },
  {
   "cell_type": "code",
   "execution_count": 10,
   "metadata": {},
   "outputs": [
    {
     "data": {
      "text/plain": [
       "OutEdgeView([(1, 2), (2, 3)])"
      ]
     },
     "execution_count": 10,
     "metadata": {},
     "output_type": "execute_result"
    }
   ],
   "source": [
    "''' Notice that nodes A and B have TWO directed edges:\n",
    "        A -> B\n",
    "        B -> A\n",
    "'''\n",
    "\n",
    "dg.edges()"
   ]
  },
  {
   "cell_type": "markdown",
   "metadata": {},
   "source": [
    "### Adding attributes to nodes and edges\n",
    "\n",
    "Sometimes you may want to attach attributes to either the nodes or edges:\n",
    "\n",
    "* Perhaps you want to save node properties that will be helpful with future analysis\n",
    "* Perhaps you want to attach visual descriptions, such a node size, edge width or graph color"
   ]
  },
  {
   "cell_type": "code",
   "execution_count": 11,
   "metadata": {},
   "outputs": [
    {
     "data": {
      "image/png": "[encoded data removed]",
      "text/plain": [
       "<Figure size 432x288 with 1 Axes>"
      ]
     },
     "metadata": {},
     "output_type": "display_data"
    }
   ],
   "source": [
    "cities = nx.Graph()\n",
    "\n",
    "cities.add_edge('San Diego', 'Los Angeles', attr_dict = { 'distance': 0.4})\n",
    "cities.add_edge('New York', 'Nashville', attr_dict = { 'distance': 5.6})\n",
    "cities.add_edge('Boston', 'D.C.', attr_dict = { 'distance': 0.8})\n",
    "\n",
    "nx.draw(cities)"
   ]
  },
  {
   "cell_type": "markdown",
   "metadata": {},
   "source": [
    "# Describing a network"
   ]
  },
  {
   "cell_type": "markdown",
   "metadata": {},
   "source": [
    "### Degree Distribution:\n",
    "\n",
    "\n",
    "\n",
    "<img src=\"img/graph.png\" style=\"float:left; padding-right:20px;\" width=\"200\" />\n",
    "\n",
    "- 1 node with 4 edges\n",
    "- 1 node with 2 edges\n",
    "- 4 nodes with 1 edge\n",
    "\n",
    "Distribution:\n",
    "\n",
    "    [(1:4), (1:2), (4:1)]\n"
   ]
  },
  {
   "cell_type": "code",
   "execution_count": 12,
   "metadata": {},
   "outputs": [
    {
     "name": "stdout",
     "output_type": "stream",
     "text": [
      "Degree Distribution: [('A', 1), ('B', 2), ('D', 4), ('C', 1), ('E', 1), ('F', 1)]\n"
     ]
    }
   ],
   "source": [
    "# Degree Distribution for all nodes\n",
    "print('Degree Distribution:', g.degree())"
   ]
  },
  {
   "cell_type": "code",
   "execution_count": 13,
   "metadata": {},
   "outputs": [
    {
     "name": "stdout",
     "output_type": "stream",
     "text": [
      "Avg shortest path from A to E is 3 hops:\n",
      "['A', 'B', 'D', 'E']\n"
     ]
    }
   ],
   "source": [
    "# Generate the graph above\n",
    "paths = nx.Graph()\n",
    "paths.add_edges_from([\n",
    "    ('A','B'), ('B','D'), ('B','C'), ('D','E'), ('D','C'),\n",
    "    ('C','1'), ('1','2'), ('1','3'), ('2','3'), \n",
    "    ('E','2'), ('E','4')])\n",
    "\n",
    "# Display average shortest path details\n",
    "print('Avg shortest path from A to E is', nx.shortest_path_length(paths, 'A','E'), 'hops:')\n",
    "print(nx.shortest_path(paths, 'A','E'))"
   ]
  },
  {
   "cell_type": "markdown",
   "metadata": {},
   "source": [
    "## Network Centrality (the higher result is better!)\n",
    "\n",
    "* **Degree: number of edges** for node X\n",
    "* **Betweenness: number of shortest paths** that pass through node X\n",
    "* **Closeness: average of the shortest paths** between X and all other nodes\n",
    "\n",
    "<img src=\"img/centrality1.png\" style=\"float:left;\" width=\"400\" />\n",
    "<img src=\"img/centrality2.png\" style=\"float:left;\" width=\"200\" />\n",
    "\n"
   ]
  },
  {
   "cell_type": "code",
   "execution_count": 14,
   "metadata": {},
   "outputs": [
    {
     "name": "stdout",
     "output_type": "stream",
     "text": [
      "Degree Centrality:\n",
      "[('A', 1), ('B', 2), ('D', 4), ('C', 1), ('E', 1), ('F', 1)]\n",
      "\n",
      "Degree Centrality, Normalized:\n",
      "{'A': 0.2, 'B': 0.4, 'D': 0.8, 'C': 0.2, 'E': 0.2, 'F': 0.2}\n"
     ]
    }
   ],
   "source": [
    "''' To calculate Degree Distribution for all nodes, use:\n",
    "    g.degree()  for non-normalized values,\n",
    "    nx.degree_centrality(g)   for normalized values\n",
    "'''\n",
    "\n",
    "# degree distrib., non-normalized\n",
    "print('Degree Centrality:')\n",
    "print(g.degree())\n",
    "\n",
    "# TODO degree distrib., normalized\n",
    "print('\\nDegree Centrality, Normalized:')\n",
    "print(nx.degree_centrality(g))\n"
   ]
  },
  {
   "cell_type": "code",
   "execution_count": 45,
   "metadata": {},
   "outputs": [
    {
     "name": "stdout",
     "output_type": "stream",
     "text": [
      "Betweenness Centrality:\n",
      "{'A': 0.0, 'B': 4.0, 'D': 9.0, 'C': 0.0, 'E': 0.0, 'F': 0.0}\n",
      "\n",
      "Betweenness Centrality, Normalized:\n",
      "{'A': 0.0, 'B': 0.4, 'D': 0.9, 'C': 0.0, 'E': 0.0, 'F': 0.0}\n"
     ]
    }
   ],
   "source": [
    "''' To calculate betweenness centrality, use:\n",
    "    nx.betweenness_centrality(g, normalized=True/False)   default is True\n",
    "'''\n",
    "\n",
    "# betweenness centrality, non-normalized\n",
    "print('Betweenness Centrality:')\n",
    "print(nx.betweenness_centrality(g, normalized=False))\n",
    "\n",
    "# betweenness centrality, normalized\n",
    "print('\\nBetweenness Centrality, Normalized:')\n",
    "print(nx.betweenness_centrality(g, normalized=True))\n"
   ]
  },
  {
   "cell_type": "code",
   "execution_count": 15,
   "metadata": {},
   "outputs": [
    {
     "name": "stdout",
     "output_type": "stream",
     "text": [
      "Closeness Centrality:\n",
      "{'A': 0.4166666666666667, 'B': 0.625, 'D': 0.8333333333333334, 'C': 0.5, 'E': 0.5, 'F': 0.5}\n"
     ]
    }
   ],
   "source": [
    "''' to calculate closeness centrality, use:\n",
    "    nx.closeness_centrality(g)\n",
    "'''\n",
    "\n",
    "# find closeness centrality\n",
    "print('Closeness Centrality:')\n",
    "print(nx.closeness_centrality(g))"
   ]
  },
  {
   "cell_type": "markdown",
   "metadata": {},
   "source": [
    "# Back to Airline Networks\n",
    "\n",
    "Previously we used open flights to examine airline routes around the world.  We found that it was a bit of a pain to store the data in tables, and merge different information.  We can model it as network instead.  I've cleaned the data up a bit, and selected out only the routes operated by Delta, making it a bit more managable.  \n"
   ]
  },
  {
   "cell_type": "code",
   "execution_count": 16,
   "metadata": {},
   "outputs": [
    {
     "data": {
      "text/html": [
       "<div>\n",
       "<style scoped>\n",
       "    .dataframe tbody tr th:only-of-type {\n",
       "        vertical-align: middle;\n",
       "    }\n",
       "\n",
       "    .dataframe tbody tr th {\n",
       "        vertical-align: top;\n",
       "    }\n",
       "\n",
       "    .dataframe thead th {\n",
       "        text-align: right;\n",
       "    }\n",
       "</style>\n",
       "<table border=\"1\" class=\"dataframe\">\n",
       "  <thead>\n",
       "    <tr style=\"text-align: right;\">\n",
       "      <th></th>\n",
       "      <th>Unnamed: 0</th>\n",
       "      <th>airline</th>\n",
       "      <th>airline_id</th>\n",
       "      <th>source</th>\n",
       "      <th>source_id</th>\n",
       "      <th>dest</th>\n",
       "      <th>dest_id</th>\n",
       "      <th>codeshare</th>\n",
       "      <th>stops</th>\n",
       "      <th>equipment</th>\n",
       "      <th>latitude_source</th>\n",
       "      <th>longitude_source</th>\n",
       "      <th>latitude_dest</th>\n",
       "      <th>longitude_dest</th>\n",
       "    </tr>\n",
       "  </thead>\n",
       "  <tbody>\n",
       "    <tr>\n",
       "      <th>0</th>\n",
       "      <td>0</td>\n",
       "      <td>DL</td>\n",
       "      <td>2009.0</td>\n",
       "      <td>ABE</td>\n",
       "      <td>4355.0</td>\n",
       "      <td>ATL</td>\n",
       "      <td>3682.0</td>\n",
       "      <td>NaN</td>\n",
       "      <td>0</td>\n",
       "      <td>717</td>\n",
       "      <td>40.652100</td>\n",
       "      <td>-75.440804</td>\n",
       "      <td>33.636700</td>\n",
       "      <td>-84.428101</td>\n",
       "    </tr>\n",
       "    <tr>\n",
       "      <th>1</th>\n",
       "      <td>1</td>\n",
       "      <td>DL</td>\n",
       "      <td>2009.0</td>\n",
       "      <td>ABQ</td>\n",
       "      <td>4019.0</td>\n",
       "      <td>ATL</td>\n",
       "      <td>3682.0</td>\n",
       "      <td>NaN</td>\n",
       "      <td>0</td>\n",
       "      <td>757 320</td>\n",
       "      <td>35.040199</td>\n",
       "      <td>-106.609001</td>\n",
       "      <td>33.636700</td>\n",
       "      <td>-84.428101</td>\n",
       "    </tr>\n",
       "    <tr>\n",
       "      <th>2</th>\n",
       "      <td>2</td>\n",
       "      <td>DL</td>\n",
       "      <td>2009.0</td>\n",
       "      <td>ABQ</td>\n",
       "      <td>4019.0</td>\n",
       "      <td>MSP</td>\n",
       "      <td>3858.0</td>\n",
       "      <td>NaN</td>\n",
       "      <td>0</td>\n",
       "      <td>320</td>\n",
       "      <td>35.040199</td>\n",
       "      <td>-106.609001</td>\n",
       "      <td>44.882000</td>\n",
       "      <td>-93.221802</td>\n",
       "    </tr>\n",
       "    <tr>\n",
       "      <th>3</th>\n",
       "      <td>3</td>\n",
       "      <td>DL</td>\n",
       "      <td>2009.0</td>\n",
       "      <td>ACC</td>\n",
       "      <td>248.0</td>\n",
       "      <td>JFK</td>\n",
       "      <td>3797.0</td>\n",
       "      <td>NaN</td>\n",
       "      <td>0</td>\n",
       "      <td>76W</td>\n",
       "      <td>5.605190</td>\n",
       "      <td>-0.166786</td>\n",
       "      <td>40.639801</td>\n",
       "      <td>-73.778900</td>\n",
       "    </tr>\n",
       "    <tr>\n",
       "      <th>4</th>\n",
       "      <td>4</td>\n",
       "      <td>DL</td>\n",
       "      <td>2009.0</td>\n",
       "      <td>ACC</td>\n",
       "      <td>248.0</td>\n",
       "      <td>ROB</td>\n",
       "      <td>1063.0</td>\n",
       "      <td>NaN</td>\n",
       "      <td>0</td>\n",
       "      <td>76W</td>\n",
       "      <td>5.605190</td>\n",
       "      <td>-0.166786</td>\n",
       "      <td>6.233790</td>\n",
       "      <td>-10.362300</td>\n",
       "    </tr>\n",
       "  </tbody>\n",
       "</table>\n",
       "</div>"
      ],
      "text/plain": [
       "   Unnamed: 0 airline  airline_id source  source_id dest  dest_id  codeshare  \\\n",
       "0           0      DL      2009.0    ABE     4355.0  ATL   3682.0        NaN   \n",
       "1           1      DL      2009.0    ABQ     4019.0  ATL   3682.0        NaN   \n",
       "2           2      DL      2009.0    ABQ     4019.0  MSP   3858.0        NaN   \n",
       "3           3      DL      2009.0    ACC      248.0  JFK   3797.0        NaN   \n",
       "4           4      DL      2009.0    ACC      248.0  ROB   1063.0        NaN   \n",
       "\n",
       "   stops equipment  latitude_source  longitude_source  latitude_dest  \\\n",
       "0      0       717        40.652100        -75.440804      33.636700   \n",
       "1      0   757 320        35.040199       -106.609001      33.636700   \n",
       "2      0       320        35.040199       -106.609001      44.882000   \n",
       "3      0       76W         5.605190         -0.166786      40.639801   \n",
       "4      0       76W         5.605190         -0.166786       6.233790   \n",
       "\n",
       "   longitude_dest  \n",
       "0      -84.428101  \n",
       "1      -84.428101  \n",
       "2      -93.221802  \n",
       "3      -73.778900  \n",
       "4      -10.362300  "
      ]
     },
     "execution_count": 16,
     "metadata": {},
     "output_type": "execute_result"
    }
   ],
   "source": [
    "# read the data\n",
    "routes = pd.read_csv('data/delta_routes.csv')\n",
    "routes.head()"
   ]
  },
  {
   "cell_type": "markdown",
   "metadata": {},
   "source": [
    "### As a review, let's build an interactive map to see what this looks like\n",
    "\n"
   ]
  },
  {
   "cell_type": "code",
   "execution_count": 17,
   "metadata": {},
   "outputs": [],
   "source": [
    "import pyproj\n",
    "import folium"
   ]
  },
  {
   "cell_type": "code",
   "execution_count": 18,
   "metadata": {},
   "outputs": [],
   "source": [
    "\n",
    "# when creating a function, it is good practice to define the API!\n",
    "def getGreatCirclePoints(startlat, startlon, endlat, endlon): \n",
    "    \"\"\"\n",
    "    startlat - starting latitude \n",
    "    startlon - starting longitude \n",
    "    endlat   - ending latitude \n",
    "    endlon   - ending longitude \n",
    "    \n",
    "    returns - a list of tuples, where each tuple is the lat-long for a point\n",
    "              along the curve.  \n",
    "    \"\"\"\n",
    "    # calculate distance between points\n",
    "    g = pyproj.Geod(ellps='WGS84')\n",
    "    (az12, az21, dist) = g.inv(startlon, startlat, endlon, endlat)\n",
    "\n",
    "    # calculate line string along path with segments <= 20 km\n",
    "    lonlats = g.npts(startlon, startlat, endlon, endlat,\n",
    "                     1 + int(dist / 20000))\n",
    "\n",
    "    # the npts function uses lon-lat, while the folium functions use lat-lon\n",
    "    # This sort of thing is maddening!  What happens is the lines don't show\n",
    "    # up on the map and you don't know why.  Learn from my mistakes\n",
    "    latlons = []\n",
    "    for lon_lat in lonlats: \n",
    "        \n",
    "        # this is how you get values out of a tuple\n",
    "        (lon, lat) = lon_lat\n",
    "        \n",
    "        # add them to our list\n",
    "        latlons.append((lat, lon)) \n",
    "    \n",
    "    # npts doesn't include start/end points, so prepend/append them\n",
    "    latlons.insert(0, (startlat, startlon))\n",
    "    latlons.append((endlat, endlon))\n",
    "    \n",
    "    return latlons\n"
   ]
  },
  {
   "cell_type": "code",
   "execution_count": 19,
   "metadata": {},
   "outputs": [],
   "source": [
    "# create a basic map, centered on Lexington\n",
    "m = folium.Map(\n",
    "    location=[38.034,-84.500],\n",
    "    tiles='Stamen Toner',\n",
    "    zoom_start=4\n",
    ")"
   ]
  },
  {
   "cell_type": "code",
   "execution_count": 20,
   "metadata": {},
   "outputs": [],
   "source": [
    "# define the map in the same way, but use great circles for the lines\n",
    "\n",
    "# Define some empty sets\n",
    "airport_set = set()\n",
    "route_set = set()\n",
    "\n",
    "# Make sure we don't add duplicates, especially for the origins\n",
    "for name, row in routes.iterrows():\n",
    "    \n",
    "    if row['source'] not in airport_set: \n",
    "        popup_string = row['source']\n",
    "        marker = folium.CircleMarker([row[\"latitude_source\"], row[\"longitude_source\"]], \n",
    "                                     color='DarkCyan',\n",
    "                                     fill_color='DarkCyan', \n",
    "                                     radius=5, popup=popup_string)\n",
    "        marker.add_to(m)\n",
    "        airport_set.add(row['source'])\n",
    "        \n",
    "    if row['dest'] not in airport_set: \n",
    "        popup_string = row['dest']\n",
    "        marker = folium.CircleMarker([row[\"latitude_dest\"], row[\"longitude_dest\"]], \n",
    "                                     color='MidnightBlue',\n",
    "                                     fill_color='MidnightBlue', \n",
    "                                     radius=5, popup=popup_string)\n",
    "        marker.add_to(m)\n",
    "        airport_set.add(row['dest'])\n",
    "    \n",
    "    # PolyLine will accept a whole list of tuples, not just two\n",
    "    if (row['source'],row['dest']) not in route_set:            \n",
    "        popup_string = row['source'] + '-' + row['dest']       \n",
    "        \n",
    "        gc_points = getGreatCirclePoints(row[\"latitude_source\"], \n",
    "                                         row[\"longitude_source\"], \n",
    "                                         row[\"latitude_dest\"], \n",
    "                                         row[\"longitude_dest\"])\n",
    "        \n",
    "        line = folium.PolyLine(gc_points, weight=2, popup=popup_string)\n",
    "        line.add_to(m)\n",
    "        route_set.add((row['source'],row['dest']))\n",
    "        "
   ]
  },
  {
   "cell_type": "code",
   "execution_count": 21,
   "metadata": {},
   "outputs": [],
   "source": [
    "# save it to its own file\n",
    "m.save(\"delta.html\")"
   ]
  },
  {
   "cell_type": "markdown",
   "metadata": {},
   "source": [
    "# Homework\n",
    "\n",
    "1. Represent the Delta flights as a network.  What are the nodes?  What are the links?\n",
    "2. Which is the most important airport in Delta's network?  Support your answer using appropriate network metrics.  \n",
    "3. How many flights are needed to reach Honolulu?  \n",
    "4. What is the maximum number of flights needed to reach any destination in Delta's network?\n",
    "5. Convert the network into a weighted network, using the travel time as the weight.  Assume that planes fly at 500 mph, plus 30 minutes to take off + 30 minutes to land.  \n",
    "6. How long does it take to travel to Honolulu, in flight times.  "
   ]
  },
  {
   "cell_type": "code",
   "execution_count": null,
   "metadata": {},
   "outputs": [],
   "source": [
    "#1. Represent the Delta flights as a network. What are the nodes? What are the links?"
   ]
  },
  {
   "cell_type": "code",
   "execution_count": 22,
   "metadata": {},
   "outputs": [],
   "source": [
    "delta = nx.Graph()"
   ]
  },
  {
   "cell_type": "code",
   "execution_count": 23,
   "metadata": {},
   "outputs": [],
   "source": [
    "delta.add_nodes_from(routes['source'])"
   ]
  },
  {
   "cell_type": "code",
   "execution_count": 24,
   "metadata": {},
   "outputs": [
    {
     "data": {
      "text/plain": [
       "NodeView(('ABE', 'ABQ', 'ACC', 'AGS', 'ALB', 'AMS', 'ANC', 'ATL', 'AUA', 'AUS', 'AVL', 'AZO', 'BCN', 'BDA', 'BDL', 'BGR', 'BHM', 'BIL', 'BKK', 'BNA', 'BOG', 'BOI', 'BOM', 'BON', 'BOS', 'BRU', 'BSB', 'BTR', 'BTV', 'BUF', 'BWI', 'BZE', 'BZN', 'CAE', 'CAK', 'CCS', 'CDG', 'CHA', 'CHS', 'CLE', 'CLT', 'CMH', 'COS', 'CRW', 'CUL', 'CUN', 'CVG', 'CZM', 'DAB', 'DAL', 'DAY', 'DCA', 'DEN', 'DFW', 'DKR', 'DSM', 'DTW', 'DUB', 'DUS', 'DXB', 'ECP', 'EKO', 'ELP', 'ERI', 'EWR', 'EYW', 'EZE', 'FAR', 'FAY', 'FCO', 'FLL', 'FNT', 'FPO', 'FRA', 'FSD', 'FUK', 'GCM', 'GDL', 'GEG', 'GIG', 'GND', 'GNV', 'GPT', 'GRB', 'GRR', 'GRU', 'GSO', 'GSP', 'GUA', 'GUM', 'HKG', 'HMO', 'HND', 'HNL', 'HOU', 'HSV', 'IAD', 'IAH', 'ICN', 'ICT', 'ILM', 'IND', 'JAN', 'JAX', 'JFK', 'JNB', 'KIN', 'KIX', 'KOA', 'LAS', 'LAX', 'LEX', 'LGA', 'LHR', 'LIH', 'LIM', 'LIR', 'LIT', 'LOS', 'MAD', 'MAN', 'MBJ', 'MCI', 'MCO', 'MDT', 'MDW', 'MEM', 'MEX', 'MGA', 'MHT', 'MIA', 'MID', 'MKE', 'MLB', 'MNL', 'MOB', 'MSN', 'MSO', 'MSP', 'MSY', 'MTY', 'MUC', 'MXP', 'MYR', 'NAS', 'NCE', 'NGO', 'NRT', 'OAK', 'OGG', 'OKC', 'OMA', 'ONT', 'ORD', 'ORF', 'PAP', 'PBI', 'PDX', 'PEK', 'PHL', 'PHX', 'PIT', 'PLS', 'PNS', 'PSP', 'PTY', 'PUJ', 'PVD', 'PVG', 'PVR', 'RDU', 'RIC', 'RNO', 'ROA', 'ROB', 'ROC', 'ROR', 'RSW', 'RTB', 'SAL', 'SAN', 'SAP', 'SAT', 'SAV', 'SCL', 'SDF', 'SDQ', 'SEA', 'SFO', 'SIN', 'SJC', 'SJD', 'SJO', 'SJU', 'SLC', 'SMF', 'SNA', 'SPN', 'SRQ', 'STI', 'STL', 'STR', 'STT', 'SVO', 'SXM', 'SYD', 'SYR', 'TGU', 'TLH', 'TLV', 'TPA', 'TPE', 'TRI', 'TUL', 'TUS', 'TVC', 'TYS', 'UIO', 'UVF', 'VCE', 'VPS', 'XNA', 'YUL', 'YYC', 'YYZ', 'ZRH'))"
      ]
     },
     "execution_count": 24,
     "metadata": {},
     "output_type": "execute_result"
    }
   ],
   "source": [
    "delta.nodes"
   ]
  },
  {
   "cell_type": "code",
   "execution_count": 25,
   "metadata": {},
   "outputs": [],
   "source": [
    "delta.add_nodes_from(routes['dest'])"
   ]
  },
  {
   "cell_type": "code",
   "execution_count": 26,
   "metadata": {},
   "outputs": [
    {
     "data": {
      "text/plain": [
       "NodeView(('ABE', 'ABQ', 'ACC', 'AGS', 'ALB', 'AMS', 'ANC', 'ATL', 'AUA', 'AUS', 'AVL', 'AZO', 'BCN', 'BDA', 'BDL', 'BGR', 'BHM', 'BIL', 'BKK', 'BNA', 'BOG', 'BOI', 'BOM', 'BON', 'BOS', 'BRU', 'BSB', 'BTR', 'BTV', 'BUF', 'BWI', 'BZE', 'BZN', 'CAE', 'CAK', 'CCS', 'CDG', 'CHA', 'CHS', 'CLE', 'CLT', 'CMH', 'COS', 'CRW', 'CUL', 'CUN', 'CVG', 'CZM', 'DAB', 'DAL', 'DAY', 'DCA', 'DEN', 'DFW', 'DKR', 'DSM', 'DTW', 'DUB', 'DUS', 'DXB', 'ECP', 'EKO', 'ELP', 'ERI', 'EWR', 'EYW', 'EZE', 'FAR', 'FAY', 'FCO', 'FLL', 'FNT', 'FPO', 'FRA', 'FSD', 'FUK', 'GCM', 'GDL', 'GEG', 'GIG', 'GND', 'GNV', 'GPT', 'GRB', 'GRR', 'GRU', 'GSO', 'GSP', 'GUA', 'GUM', 'HKG', 'HMO', 'HND', 'HNL', 'HOU', 'HSV', 'IAD', 'IAH', 'ICN', 'ICT', 'ILM', 'IND', 'JAN', 'JAX', 'JFK', 'JNB', 'KIN', 'KIX', 'KOA', 'LAS', 'LAX', 'LEX', 'LGA', 'LHR', 'LIH', 'LIM', 'LIR', 'LIT', 'LOS', 'MAD', 'MAN', 'MBJ', 'MCI', 'MCO', 'MDT', 'MDW', 'MEM', 'MEX', 'MGA', 'MHT', 'MIA', 'MID', 'MKE', 'MLB', 'MNL', 'MOB', 'MSN', 'MSO', 'MSP', 'MSY', 'MTY', 'MUC', 'MXP', 'MYR', 'NAS', 'NCE', 'NGO', 'NRT', 'OAK', 'OGG', 'OKC', 'OMA', 'ONT', 'ORD', 'ORF', 'PAP', 'PBI', 'PDX', 'PEK', 'PHL', 'PHX', 'PIT', 'PLS', 'PNS', 'PSP', 'PTY', 'PUJ', 'PVD', 'PVG', 'PVR', 'RDU', 'RIC', 'RNO', 'ROA', 'ROB', 'ROC', 'ROR', 'RSW', 'RTB', 'SAL', 'SAN', 'SAP', 'SAT', 'SAV', 'SCL', 'SDF', 'SDQ', 'SEA', 'SFO', 'SIN', 'SJC', 'SJD', 'SJO', 'SJU', 'SLC', 'SMF', 'SNA', 'SPN', 'SRQ', 'STI', 'STL', 'STR', 'STT', 'SVO', 'SXM', 'SYD', 'SYR', 'TGU', 'TLH', 'TLV', 'TPA', 'TPE', 'TRI', 'TUL', 'TUS', 'TVC', 'TYS', 'UIO', 'UVF', 'VCE', 'VPS', 'XNA', 'YUL', 'YYC', 'YYZ', 'ZRH', 'PWM', 'ACA', 'VSA', 'CUU'))"
      ]
     },
     "execution_count": 26,
     "metadata": {},
     "output_type": "execute_result"
    }
   ],
   "source": [
    "delta.nodes"
   ]
  },
  {
   "cell_type": "code",
   "execution_count": 47,
   "metadata": {},
   "outputs": [
    {
     "data": {
      "image/png": "[encoded data removed]",
      "text/plain": [
       "<Figure size 432x288 with 1 Axes>"
      ]
     },
     "metadata": {},
     "output_type": "display_data"
    }
   ],
   "source": [
    "delta = nx.from_pandas_edgelist(routes, 'source', 'dest')\n",
    "nx.draw(delta, with_labels=True)"
   ]
  },
  {
   "cell_type": "code",
   "execution_count": 34,
   "metadata": {},
   "outputs": [],
   "source": [
    "#The nodes are the airports and the links are the flights"
   ]
  },
  {
   "cell_type": "code",
   "execution_count": 35,
   "metadata": {},
   "outputs": [],
   "source": [
    "#2. Which is the most important airport in Delta's network? \n",
    "#Support your answer using appropriate network metrics. "
   ]
  },
  {
   "cell_type": "code",
   "execution_count": 42,
   "metadata": {},
   "outputs": [
    {
     "data": {
      "text/plain": [
       "ATL    0.742358\n",
       "JFK    0.366812\n",
       "DTW    0.353712\n",
       "MSP    0.275109\n",
       "SLC    0.187773\n",
       "LGA    0.165939\n",
       "LAX    0.157205\n",
       "CVG    0.109170\n",
       "NRT    0.074236\n",
       "MEX    0.074236\n",
       "BOS    0.074236\n",
       "MCO    0.061135\n",
       "SEA    0.061135\n",
       "CDG    0.061135\n",
       "LAS    0.056769\n",
       "RDU    0.052402\n",
       "CUN    0.048035\n",
       "MIA    0.043668\n",
       "IND    0.043668\n",
       "PIT    0.039301\n",
       "MEM    0.039301\n",
       "SFO    0.039301\n",
       "ORD    0.039301\n",
       "AMS    0.039301\n",
       "HNL    0.039301\n",
       "PDX    0.030568\n",
       "PHL    0.030568\n",
       "CMH    0.030568\n",
       "DFW    0.030568\n",
       "BWI    0.030568\n",
       "         ...   \n",
       "MDT    0.004367\n",
       "MAN    0.004367\n",
       "LOS    0.004367\n",
       "LIT    0.004367\n",
       "LIM    0.004367\n",
       "KIN    0.004367\n",
       "JNB    0.004367\n",
       "JAN    0.004367\n",
       "ILM    0.004367\n",
       "ICT    0.004367\n",
       "MYR    0.004367\n",
       "PNS    0.004367\n",
       "XNA    0.004367\n",
       "PTY    0.004367\n",
       "VPS    0.004367\n",
       "UVF    0.004367\n",
       "UIO    0.004367\n",
       "TYS    0.004367\n",
       "TUL    0.004367\n",
       "TRI    0.004367\n",
       "TLH    0.004367\n",
       "TGU    0.004367\n",
       "STR    0.004367\n",
       "SJD    0.004367\n",
       "SCL    0.004367\n",
       "SAP    0.004367\n",
       "SAL    0.004367\n",
       "RTB    0.004367\n",
       "ROA    0.004367\n",
       "ABE    0.004367\n",
       "Length: 230, dtype: float64"
      ]
     },
     "execution_count": 42,
     "metadata": {},
     "output_type": "execute_result"
    }
   ],
   "source": [
    "degree_cent = nx.degree_centrality(delta)\n",
    "df = pd.Series(degree_cent)\n",
    "df.sort_values(axis=0, ascending=False)"
   ]
  },
  {
   "cell_type": "code",
   "execution_count": 43,
   "metadata": {},
   "outputs": [
    {
     "data": {
      "text/plain": [
       "ATL    0.653985\n",
       "JFK    0.151990\n",
       "DTW    0.118757\n",
       "MSP    0.098433\n",
       "NRT    0.067465\n",
       "LAX    0.057727\n",
       "SLC    0.053362\n",
       "LGA    0.028575\n",
       "MEX    0.025128\n",
       "HNL    0.019466\n",
       "MTY    0.013409\n",
       "AMS    0.008849\n",
       "SEA    0.008814\n",
       "ACC    0.008734\n",
       "LAS    0.006744\n",
       "MIA    0.006554\n",
       "HMO    0.004050\n",
       "PHX    0.003265\n",
       "CVG    0.002818\n",
       "NGO    0.002779\n",
       "SFO    0.001699\n",
       "BOS    0.001528\n",
       "MCO    0.000991\n",
       "IAD    0.000961\n",
       "ORD    0.000940\n",
       "CDG    0.000680\n",
       "IND    0.000656\n",
       "GUM    0.000411\n",
       "DFW    0.000358\n",
       "PDX    0.000357\n",
       "         ...   \n",
       "MKE    0.000000\n",
       "MHT    0.000000\n",
       "MGA    0.000000\n",
       "MDW    0.000000\n",
       "MDT    0.000000\n",
       "PVR    0.000000\n",
       "PWM    0.000000\n",
       "ROA    0.000000\n",
       "SNA    0.000000\n",
       "TUS    0.000000\n",
       "TUL    0.000000\n",
       "TRI    0.000000\n",
       "TLH    0.000000\n",
       "TGU    0.000000\n",
       "SXM    0.000000\n",
       "STT    0.000000\n",
       "STR    0.000000\n",
       "SRQ    0.000000\n",
       "SMF    0.000000\n",
       "RTB    0.000000\n",
       "SJU    0.000000\n",
       "SJO    0.000000\n",
       "SJD    0.000000\n",
       "SJC    0.000000\n",
       "SDQ    0.000000\n",
       "SCL    0.000000\n",
       "SAP    0.000000\n",
       "SAN    0.000000\n",
       "SAL    0.000000\n",
       "ABE    0.000000\n",
       "Length: 230, dtype: float64"
      ]
     },
     "execution_count": 43,
     "metadata": {},
     "output_type": "execute_result"
    }
   ],
   "source": [
    "between_cent = nx.betweenness_centrality(delta, normalized=True)\n",
    "df2 = pd.Series(between_cent)\n",
    "df2.sort_values(axis=0, ascending=False)"
   ]
  },
  {
   "cell_type": "code",
   "execution_count": 44,
   "metadata": {},
   "outputs": [
    {
     "data": {
      "text/plain": [
       "ATL    0.786942\n",
       "DTW    0.602632\n",
       "JFK    0.602632\n",
       "MSP    0.569652\n",
       "LAX    0.536300\n",
       "SLC    0.530093\n",
       "SEA    0.506637\n",
       "NRT    0.504405\n",
       "LGA    0.502193\n",
       "CVG    0.501094\n",
       "MCO    0.500000\n",
       "BOS    0.498911\n",
       "LAS    0.498911\n",
       "RDU    0.494600\n",
       "CDG    0.494600\n",
       "IND    0.492473\n",
       "CUN    0.491416\n",
       "MIA    0.491416\n",
       "PDX    0.490364\n",
       "SFO    0.489316\n",
       "DFW    0.487234\n",
       "MEX    0.487234\n",
       "CMH    0.485169\n",
       "TPA    0.485169\n",
       "STL    0.483122\n",
       "ORD    0.483122\n",
       "CLT    0.482105\n",
       "PHX    0.482105\n",
       "DEN    0.482105\n",
       "PIT    0.481092\n",
       "         ...   \n",
       "BZN    0.363492\n",
       "HMO    0.358372\n",
       "HND    0.352851\n",
       "SYD    0.349618\n",
       "OGG    0.349618\n",
       "LIH    0.349618\n",
       "KOA    0.349618\n",
       "EKO    0.346970\n",
       "ONT    0.346970\n",
       "OAK    0.346970\n",
       "RNO    0.346970\n",
       "GUM    0.337758\n",
       "MNL    0.336765\n",
       "SPN    0.336765\n",
       "MID    0.336270\n",
       "HKG    0.335777\n",
       "BKK    0.335777\n",
       "TPE    0.335777\n",
       "ROR    0.335777\n",
       "SIN    0.335777\n",
       "BGR    0.334795\n",
       "BTV    0.334795\n",
       "VSA    0.328080\n",
       "ACA    0.328080\n",
       "BOM    0.325284\n",
       "KIX    0.322990\n",
       "FUK    0.322082\n",
       "CUL    0.283767\n",
       "CUU    0.275904\n",
       "ROB    0.274580\n",
       "Length: 230, dtype: float64"
      ]
     },
     "execution_count": 44,
     "metadata": {},
     "output_type": "execute_result"
    }
   ],
   "source": [
    "close_cent = nx.closeness_centrality(delta)\n",
    "df3 = pd.Series(close_cent)\n",
    "df3.sort_values(axis=0, ascending = False)"
   ]
  },
  {
   "cell_type": "code",
   "execution_count": null,
   "metadata": {},
   "outputs": [],
   "source": [
    "# With ATL being the top airport for Degree Centrality, Clonseness, and betweeness it is the most important"
   ]
  },
  {
   "cell_type": "code",
   "execution_count": null,
   "metadata": {},
   "outputs": [],
   "source": [
    "#3. How many flights are needed to reach Honolulu? "
   ]
  },
  {
   "cell_type": "code",
   "execution_count": 45,
   "metadata": {},
   "outputs": [
    {
     "data": {
      "text/plain": [
       "['LEX', 'ATL', 'HNL']"
      ]
     },
     "execution_count": 45,
     "metadata": {},
     "output_type": "execute_result"
    }
   ],
   "source": [
    "nx.shortest_path(delta, 'LEX', 'HNL')"
   ]
  },
  {
   "cell_type": "code",
   "execution_count": null,
   "metadata": {},
   "outputs": [],
   "source": [
    "#4. What is the maximum number of flights needed to reach any destination in Delta's network?"
   ]
  },
  {
   "cell_type": "code",
   "execution_count": 46,
   "metadata": {},
   "outputs": [
    {
     "data": {
      "text/plain": [
       "{'ATL': 0,\n",
       " 'ABE': 1,\n",
       " 'ABQ': 1,\n",
       " 'AGS': 1,\n",
       " 'ALB': 1,\n",
       " 'AMS': 1,\n",
       " 'AUA': 1,\n",
       " 'AUS': 1,\n",
       " 'AVL': 1,\n",
       " 'BDA': 1,\n",
       " 'BDL': 1,\n",
       " 'BHM': 1,\n",
       " 'BNA': 1,\n",
       " 'BOG': 1,\n",
       " 'BON': 1,\n",
       " 'BOS': 1,\n",
       " 'BRU': 1,\n",
       " 'BSB': 1,\n",
       " 'BTR': 1,\n",
       " 'BUF': 1,\n",
       " 'BWI': 1,\n",
       " 'BZE': 1,\n",
       " 'CAE': 1,\n",
       " 'CAK': 1,\n",
       " 'CCS': 1,\n",
       " 'CDG': 1,\n",
       " 'CHA': 1,\n",
       " 'CHS': 1,\n",
       " 'CLE': 1,\n",
       " 'CLT': 1,\n",
       " 'CMH': 1,\n",
       " 'COS': 1,\n",
       " 'CRW': 1,\n",
       " 'CUN': 1,\n",
       " 'CVG': 1,\n",
       " 'CZM': 1,\n",
       " 'DAB': 1,\n",
       " 'DAY': 1,\n",
       " 'DCA': 1,\n",
       " 'DEN': 1,\n",
       " 'DFW': 1,\n",
       " 'DSM': 1,\n",
       " 'DTW': 1,\n",
       " 'DUB': 1,\n",
       " 'DUS': 1,\n",
       " 'DXB': 1,\n",
       " 'ECP': 1,\n",
       " 'ELP': 1,\n",
       " 'EWR': 1,\n",
       " 'EYW': 1,\n",
       " 'EZE': 1,\n",
       " 'FAY': 1,\n",
       " 'FCO': 1,\n",
       " 'FLL': 1,\n",
       " 'FNT': 1,\n",
       " 'FPO': 1,\n",
       " 'FRA': 1,\n",
       " 'GCM': 1,\n",
       " 'GDL': 1,\n",
       " 'GIG': 1,\n",
       " 'GNV': 1,\n",
       " 'GPT': 1,\n",
       " 'GRR': 1,\n",
       " 'GRU': 1,\n",
       " 'GSO': 1,\n",
       " 'GSP': 1,\n",
       " 'GUA': 1,\n",
       " 'HNL': 1,\n",
       " 'HOU': 1,\n",
       " 'HSV': 1,\n",
       " 'IAD': 1,\n",
       " 'IAH': 1,\n",
       " 'ICT': 1,\n",
       " 'ILM': 1,\n",
       " 'IND': 1,\n",
       " 'JAN': 1,\n",
       " 'JAX': 1,\n",
       " 'JFK': 1,\n",
       " 'JNB': 1,\n",
       " 'KIN': 1,\n",
       " 'LAS': 1,\n",
       " 'LAX': 1,\n",
       " 'LEX': 1,\n",
       " 'LGA': 1,\n",
       " 'LHR': 1,\n",
       " 'LIM': 1,\n",
       " 'LIR': 1,\n",
       " 'LIT': 1,\n",
       " 'LOS': 1,\n",
       " 'MAD': 1,\n",
       " 'MAN': 1,\n",
       " 'MBJ': 1,\n",
       " 'MCI': 1,\n",
       " 'MCO': 1,\n",
       " 'MDT': 1,\n",
       " 'MDW': 1,\n",
       " 'MEM': 1,\n",
       " 'MEX': 1,\n",
       " 'MGA': 1,\n",
       " 'MHT': 1,\n",
       " 'MIA': 1,\n",
       " 'MKE': 1,\n",
       " 'MLB': 1,\n",
       " 'MOB': 1,\n",
       " 'MSN': 1,\n",
       " 'MSP': 1,\n",
       " 'MSY': 1,\n",
       " 'MUC': 1,\n",
       " 'MYR': 1,\n",
       " 'NAS': 1,\n",
       " 'NRT': 1,\n",
       " 'OKC': 1,\n",
       " 'OMA': 1,\n",
       " 'ORD': 1,\n",
       " 'ORF': 1,\n",
       " 'PAP': 1,\n",
       " 'PBI': 1,\n",
       " 'PDX': 1,\n",
       " 'PHL': 1,\n",
       " 'PHX': 1,\n",
       " 'PIT': 1,\n",
       " 'PLS': 1,\n",
       " 'PNS': 1,\n",
       " 'PTY': 1,\n",
       " 'PUJ': 1,\n",
       " 'PVD': 1,\n",
       " 'PVR': 1,\n",
       " 'PWM': 1,\n",
       " 'RDU': 1,\n",
       " 'RIC': 1,\n",
       " 'ROA': 1,\n",
       " 'ROC': 1,\n",
       " 'RSW': 1,\n",
       " 'RTB': 1,\n",
       " 'SAL': 1,\n",
       " 'SAN': 1,\n",
       " 'SAP': 1,\n",
       " 'SAT': 1,\n",
       " 'SAV': 1,\n",
       " 'SCL': 1,\n",
       " 'SDF': 1,\n",
       " 'SDQ': 1,\n",
       " 'SEA': 1,\n",
       " 'SFO': 1,\n",
       " 'SJC': 1,\n",
       " 'SJD': 1,\n",
       " 'SJO': 1,\n",
       " 'SJU': 1,\n",
       " 'SLC': 1,\n",
       " 'SMF': 1,\n",
       " 'SNA': 1,\n",
       " 'SRQ': 1,\n",
       " 'STL': 1,\n",
       " 'STR': 1,\n",
       " 'STT': 1,\n",
       " 'SXM': 1,\n",
       " 'SYR': 1,\n",
       " 'TGU': 1,\n",
       " 'TLH': 1,\n",
       " 'TPA': 1,\n",
       " 'TRI': 1,\n",
       " 'TUL': 1,\n",
       " 'TUS': 1,\n",
       " 'TYS': 1,\n",
       " 'UIO': 1,\n",
       " 'UVF': 1,\n",
       " 'VPS': 1,\n",
       " 'XNA': 1,\n",
       " 'ZRH': 1,\n",
       " 'DAL': 1,\n",
       " 'YYZ': 1,\n",
       " 'BOM': 2,\n",
       " 'AZO': 2,\n",
       " 'ERI': 2,\n",
       " 'GRB': 2,\n",
       " 'ICN': 2,\n",
       " 'MTY': 2,\n",
       " 'NGO': 2,\n",
       " 'PEK': 2,\n",
       " 'PVG': 2,\n",
       " 'TVC': 2,\n",
       " 'YUL': 2,\n",
       " 'FUK': 2,\n",
       " 'KIX': 2,\n",
       " 'SVO': 2,\n",
       " 'ACC': 2,\n",
       " 'BCN': 2,\n",
       " 'DKR': 2,\n",
       " 'GND': 2,\n",
       " 'MXP': 2,\n",
       " 'NCE': 2,\n",
       " 'STI': 2,\n",
       " 'TLV': 2,\n",
       " 'VCE': 2,\n",
       " 'HMO': 2,\n",
       " 'HND': 2,\n",
       " 'KOA': 2,\n",
       " 'LIH': 2,\n",
       " 'OGG': 2,\n",
       " 'SYD': 2,\n",
       " 'BGR': 2,\n",
       " 'BTV': 2,\n",
       " 'ACA': 2,\n",
       " 'MID': 2,\n",
       " 'VSA': 2,\n",
       " 'ANC': 2,\n",
       " 'BIL': 2,\n",
       " 'BOI': 2,\n",
       " 'BZN': 2,\n",
       " 'FAR': 2,\n",
       " 'FSD': 2,\n",
       " 'GEG': 2,\n",
       " 'MSO': 2,\n",
       " 'PSP': 2,\n",
       " 'YYC': 2,\n",
       " 'BKK': 2,\n",
       " 'GUM': 2,\n",
       " 'HKG': 2,\n",
       " 'MNL': 2,\n",
       " 'ROR': 2,\n",
       " 'SIN': 2,\n",
       " 'SPN': 2,\n",
       " 'TPE': 2,\n",
       " 'EKO': 2,\n",
       " 'OAK': 2,\n",
       " 'ONT': 2,\n",
       " 'RNO': 2,\n",
       " 'CUL': 3,\n",
       " 'CUU': 3,\n",
       " 'ROB': 3}"
      ]
     },
     "execution_count": 46,
     "metadata": {},
     "output_type": "execute_result"
    }
   ],
   "source": [
    "max_flights = nx.shortest_path_length(delta, source = 'ATL')\n",
    "max_flights"
   ]
  },
  {
   "cell_type": "code",
   "execution_count": null,
   "metadata": {},
   "outputs": [],
   "source": [
    "#From ATL the max flights is 3 to 3 different airports"
   ]
  },
  {
   "cell_type": "code",
   "execution_count": null,
   "metadata": {},
   "outputs": [],
   "source": [
    "#5. Convert the network into a weighted network, using the travel time as the weight.\n",
    "#Assume that planes fly at 500 mph, plus 30 minutes to take off + 30 minutes to land"
   ]
  },
  {
   "cell_type": "code",
   "execution_count": null,
   "metadata": {},
   "outputs": [],
   "source": []
  },
  {
   "cell_type": "code",
   "execution_count": null,
   "metadata": {},
   "outputs": [],
   "source": [
    "#6. How long does it take to travel to Honolulu, in flight times. "
   ]
  }
 ],
 "metadata": {
  "anaconda-cloud": {},
  "kernelspec": {
   "display_name": "Python 3",
   "language": "python",
   "name": "python3"
  },
  "language_info": {
   "codemirror_mode": {
    "name": "ipython",
    "version": 3
   },
   "file_extension": ".py",
   "mimetype": "text/x-python",
   "name": "python",
   "nbconvert_exporter": "python",
   "pygments_lexer": "ipython3",
   "version": "3.7.1"
  }
 },
 "nbformat": 4,
 "nbformat_minor": 1
}
